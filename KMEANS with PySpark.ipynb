{
 "cells": [
  {
   "cell_type": "code",
   "execution_count": 1,
   "metadata": {},
   "outputs": [],
   "source": [
    "import findspark\n",
    "\n",
    "findspark.init()"
   ]
  },
  {
   "cell_type": "code",
   "execution_count": 2,
   "metadata": {},
   "outputs": [
    {
     "name": "stdout",
     "output_type": "stream",
     "text": [
      "+-----+\n",
      "|hello|\n",
      "+-----+\n",
      "|spark|\n",
      "+-----+\n",
      "\n"
     ]
    }
   ],
   "source": [
    "import pyspark\n",
    "\n",
    "from pyspark.sql import SparkSession\n",
    "\n",
    "spark = SparkSession.builder.getOrCreate()\n",
    "\n",
    "df = spark.sql(\"select 'spark' as hello \")\n",
    "\n",
    "df.show()"
   ]
  },
  {
   "cell_type": "code",
   "execution_count": 3,
   "metadata": {},
   "outputs": [
    {
     "data": {
      "text/plain": [
       "DataFrame[HMGNS_FLOW_ID: string, HMGNS_LNK_ID: string, HMGNS_LNK_DESC: string, FLOW: string, DOW: string, COUNT_TYPE: string, PERIOD_TYPE: string, 0:00: string, 1:00: string, 2:00: string, 3:00: string, 4:00: string, 5:00: string, 6:00: string, 7:00: string, 8:00: string, 9:00: string, 10:00: string, 11:00: string, 12:00: string, 13:00: string, 14:00: string, 15:00: string, 16:00: string, 17:00: string, 18:00: string, 19:00: string, 20:00: string, 21:00: string, 22:00: string, 23:00: string]"
      ]
     },
     "metadata": {},
     "output_type": "display_data"
    }
   ],
   "source": [
    "from pyspark.sql.types import IntegerType\n",
    "df = spark.read.format(\"csv\").option(\"header\", \"true\").load(\"C:/Users/veua/Downloads/TYPICAL_HOURLY_VOLUME_DATA.csv\")\n",
    "display(df)"
   ]
  },
  {
   "cell_type": "code",
   "execution_count": 4,
   "metadata": {},
   "outputs": [],
   "source": [
    "list_cols = [\"0:00\", \"1:00\", \"2:00\", \"3:00\", \"4:00\", \"5:00\", \"6:00\", \"7:00\", \"8:00\", \"9:00\", \"10:00\", \"11:00\", \"12:00\", \"13:00\", \"14:00\", \"15:00\", \"16:00\", \"17:00\", \"18:00\", \"19:00\", \"20:00\", \"21:00\", \"22:00\", \"23:00\"]"
   ]
  },
  {
   "cell_type": "code",
   "execution_count": 5,
   "metadata": {},
   "outputs": [],
   "source": [
    "df_cols = df.select(*list_cols)"
   ]
  },
  {
   "cell_type": "code",
   "execution_count": 6,
   "metadata": {},
   "outputs": [
    {
     "data": {
      "text/plain": [
       "[('0:00', 'string'),\n",
       " ('1:00', 'string'),\n",
       " ('2:00', 'string'),\n",
       " ('3:00', 'string'),\n",
       " ('4:00', 'string'),\n",
       " ('5:00', 'string'),\n",
       " ('6:00', 'string'),\n",
       " ('7:00', 'string'),\n",
       " ('8:00', 'string'),\n",
       " ('9:00', 'string'),\n",
       " ('10:00', 'string'),\n",
       " ('11:00', 'string'),\n",
       " ('12:00', 'string'),\n",
       " ('13:00', 'string'),\n",
       " ('14:00', 'string'),\n",
       " ('15:00', 'string'),\n",
       " ('16:00', 'string'),\n",
       " ('17:00', 'string'),\n",
       " ('18:00', 'string'),\n",
       " ('19:00', 'string'),\n",
       " ('20:00', 'string'),\n",
       " ('21:00', 'string'),\n",
       " ('22:00', 'string'),\n",
       " ('23:00', 'string')]"
      ]
     },
     "execution_count": 6,
     "metadata": {},
     "output_type": "execute_result"
    }
   ],
   "source": [
    "df_cols.dtypes"
   ]
  },
  {
   "cell_type": "code",
   "execution_count": 7,
   "metadata": {},
   "outputs": [
    {
     "data": {
      "text/plain": [
       "pyspark.sql.dataframe.DataFrame"
      ]
     },
     "execution_count": 7,
     "metadata": {},
     "output_type": "execute_result"
    }
   ],
   "source": [
    "type(df_cols)"
   ]
  },
  {
   "cell_type": "code",
   "execution_count": 8,
   "metadata": {},
   "outputs": [
    {
     "name": "stdout",
     "output_type": "stream",
     "text": [
      "+------+-----+-----+-----+-----+------+------+------+------+------+------+------+------+------+------+------+------+------+------+------+------+------+------+------+\n",
      "|  0:00| 1:00| 2:00| 3:00| 4:00|  5:00|  6:00|  7:00|  8:00|  9:00| 10:00| 11:00| 12:00| 13:00| 14:00| 15:00| 16:00| 17:00| 18:00| 19:00| 20:00| 21:00| 22:00| 23:00|\n",
      "+------+-----+-----+-----+-----+------+------+------+------+------+------+------+------+------+------+------+------+------+------+------+------+------+------+------+\n",
      "|1314.0|835.0|636.0|562.0|531.0| 701.0|1416.0|2544.0|3169.0|2965.0|3524.0|4082.0|4336.0|4504.0|5030.0|5891.0|6279.0|6708.0|5039.0|3358.0|2853.0|2496.0|2205.0|1804.0|\n",
      "|1189.0|597.0|495.0|391.0|526.0|1173.0|3089.0|5196.0|6032.0|4438.0|4473.0|4769.0|4905.0|5022.0|5874.0|7934.0|8342.0|8761.0|7501.0|4594.0|3063.0|2663.0|2347.0|1803.0|\n",
      "| 836.0|461.0|316.0|299.0|442.0|1080.0|2999.0|5226.0|5967.0|4480.0|4185.0|4385.0|4706.0|4972.0|5951.0|7453.0|7955.0|8152.0|6779.0|4002.0|2834.0|2569.0|2116.0|1415.0|\n",
      "|1344.0|742.0|483.0|423.0|414.0| 722.0|2108.0|4219.0|5633.0|4056.0|4037.0|4322.0|4509.0|4852.0|5360.0|6594.0|7558.0|8058.0|7209.0|4988.0|3619.0|3071.0|2671.0|2587.0|\n",
      "|1178.0|620.0|421.0|359.0|422.0| 902.0|2520.0|4594.0|5382.0|4112.0|4057.0|4223.0|4448.0|4704.0|5389.0|6880.0|7325.0|7902.0|6707.0|4305.0|3059.0|2744.0|2477.0|2048.0|\n",
      "+------+-----+-----+-----+-----+------+------+------+------+------+------+------+------+------+------+------+------+------+------+------+------+------+------+------+\n",
      "only showing top 5 rows\n",
      "\n"
     ]
    }
   ],
   "source": [
    "#Converting all string columns to float columns\n",
    "from pyspark.sql.functions import col\n",
    "df1 = df_cols.select(*(col(c).cast(\"float\").alias(c) for c in df_cols.columns))\n",
    "df1.show(5)"
   ]
  },
  {
   "cell_type": "code",
   "execution_count": 9,
   "metadata": {},
   "outputs": [
    {
     "data": {
      "text/plain": [
       "[('0:00', 'float'),\n",
       " ('1:00', 'float'),\n",
       " ('2:00', 'float'),\n",
       " ('3:00', 'float'),\n",
       " ('4:00', 'float'),\n",
       " ('5:00', 'float'),\n",
       " ('6:00', 'float'),\n",
       " ('7:00', 'float'),\n",
       " ('8:00', 'float'),\n",
       " ('9:00', 'float'),\n",
       " ('10:00', 'float'),\n",
       " ('11:00', 'float'),\n",
       " ('12:00', 'float'),\n",
       " ('13:00', 'float'),\n",
       " ('14:00', 'float'),\n",
       " ('15:00', 'float'),\n",
       " ('16:00', 'float'),\n",
       " ('17:00', 'float'),\n",
       " ('18:00', 'float'),\n",
       " ('19:00', 'float'),\n",
       " ('20:00', 'float'),\n",
       " ('21:00', 'float'),\n",
       " ('22:00', 'float'),\n",
       " ('23:00', 'float')]"
      ]
     },
     "execution_count": 9,
     "metadata": {},
     "output_type": "execute_result"
    }
   ],
   "source": [
    "df1.dtypes"
   ]
  },
  {
   "cell_type": "code",
   "execution_count": 10,
   "metadata": {},
   "outputs": [],
   "source": [
    "columns = ['0:00', '1:00',  '2:00', '3:00', '4:00', '5:00', '6:00', '7:00', '8:00', '9:00', '10:00', '11:00', '12:00', '13:00', '14:00',\n",
    " '15:00', '16:00', '17:00', '18:00', '19:00', '20:00', '21:00', '22:00', '23:00']"
   ]
  },
  {
   "cell_type": "code",
   "execution_count": 11,
   "metadata": {},
   "outputs": [
    {
     "name": "stdout",
     "output_type": "stream",
     "text": [
      "+------+------+------+-----+-----+------+------+------+------+------+------+------+------+------+------+------+------+------+------+------+------+------+------+------+--------------------+\n",
      "|  0:00|  1:00|  2:00| 3:00| 4:00|  5:00|  6:00|  7:00|  8:00|  9:00| 10:00| 11:00| 12:00| 13:00| 14:00| 15:00| 16:00| 17:00| 18:00| 19:00| 20:00| 21:00| 22:00| 23:00|            features|\n",
      "+------+------+------+-----+-----+------+------+------+------+------+------+------+------+------+------+------+------+------+------+------+------+------+------+------+--------------------+\n",
      "|1314.0| 835.0| 636.0|562.0|531.0| 701.0|1416.0|2544.0|3169.0|2965.0|3524.0|4082.0|4336.0|4504.0|5030.0|5891.0|6279.0|6708.0|5039.0|3358.0|2853.0|2496.0|2205.0|1804.0|[1314.0,835.0,636...|\n",
      "|1189.0| 597.0| 495.0|391.0|526.0|1173.0|3089.0|5196.0|6032.0|4438.0|4473.0|4769.0|4905.0|5022.0|5874.0|7934.0|8342.0|8761.0|7501.0|4594.0|3063.0|2663.0|2347.0|1803.0|[1189.0,597.0,495...|\n",
      "| 836.0| 461.0| 316.0|299.0|442.0|1080.0|2999.0|5226.0|5967.0|4480.0|4185.0|4385.0|4706.0|4972.0|5951.0|7453.0|7955.0|8152.0|6779.0|4002.0|2834.0|2569.0|2116.0|1415.0|[836.0,461.0,316....|\n",
      "|1344.0| 742.0| 483.0|423.0|414.0| 722.0|2108.0|4219.0|5633.0|4056.0|4037.0|4322.0|4509.0|4852.0|5360.0|6594.0|7558.0|8058.0|7209.0|4988.0|3619.0|3071.0|2671.0|2587.0|[1344.0,742.0,483...|\n",
      "|1178.0| 620.0| 421.0|359.0|422.0| 902.0|2520.0|4594.0|5382.0|4112.0|4057.0|4223.0|4448.0|4704.0|5389.0|6880.0|7325.0|7902.0|6707.0|4305.0|3059.0|2744.0|2477.0|2048.0|[1178.0,620.0,421...|\n",
      "| 915.0| 490.0| 343.0|320.0|437.0|1053.0|3045.0|5246.0|6072.0|4586.0|4293.0|4437.0|4769.0|5111.0|6125.0|7657.0|7755.0|7758.0|6882.0|4489.0|3283.0|3025.0|2499.0|1791.0|[915.0,490.0,343....|\n",
      "| 854.0| 471.0| 307.0|269.0|263.0| 459.0|1340.0|2681.0|3579.0|2578.0|2565.0|2746.0|2865.0|3083.0|3406.0|4190.0|4802.0|5120.0|4581.0|3170.0|2299.0|1951.0|1697.0|1644.0|[854.0,471.0,307....|\n",
      "|1140.0| 600.0| 408.0|348.0|408.0| 873.0|2438.0|4446.0|5209.0|3979.0|3927.0|4087.0|4305.0|4552.0|5215.0|6658.0|7089.0|7647.0|6491.0|4166.0|2961.0|2656.0|2398.0|1982.0|[1140.0,600.0,408...|\n",
      "| 905.0| 485.0| 340.0|317.0|432.0|1042.0|3015.0|5193.0|6010.0|4540.0|4249.0|4392.0|4721.0|5059.0|6063.0|7579.0|7677.0|7679.0|6812.0|4444.0|3250.0|2994.0|2474.0|1773.0|[905.0,485.0,340....|\n",
      "| 882.0| 487.0| 317.0|278.0|271.0| 474.0|1384.0|2768.0|3696.0|2662.0|2650.0|2836.0|2959.0|3184.0|3517.0|4327.0|4960.0|5288.0|4731.0|3274.0|2375.0|2015.0|1753.0|1698.0|[882.0,487.0,317....|\n",
      "|1165.0| 613.0| 417.0|355.0|417.0| 893.0|2493.0|4545.0|5324.0|4067.0|4014.0|4178.0|4400.0|4654.0|5331.0|6806.0|7247.0|7817.0|6635.0|4259.0|3027.0|2715.0|2451.0|2026.0|[1165.0,613.0,417...|\n",
      "| 942.0| 504.0| 354.0|330.0|450.0|1085.0|3138.0|5405.0|6256.0|4725.0|4423.0|4571.0|4914.0|5265.0|6311.0|7889.0|7990.0|7993.0|7090.0|4625.0|3383.0|3116.0|2575.0|1845.0|[942.0,504.0,354....|\n",
      "|1140.0| 619.0| 420.0|364.0|487.0|1063.0|2895.0|4789.0|5649.0|4133.0|4364.0|4730.0|5222.0|5664.0|6427.0|6984.0|7352.0|7061.0|7173.0|5363.0|4162.0|3764.0|2886.0|2469.0|[1140.0,619.0,420...|\n",
      "|1221.0| 689.0| 512.0|444.0|498.0|1058.0|2839.0|5072.0|5498.0|4466.0|4597.0|4884.0|5292.0|5557.0|6197.0|6901.0|6752.0|6665.0|6122.0|4748.0|3433.0|2962.0|2831.0|3140.0|[1221.0,689.0,512...|\n",
      "|1163.0| 645.0| 461.0|411.0|505.0|1127.0|3129.0|5314.0|5794.0|4550.0|4434.0|4906.0|5409.0|5896.0|7010.0|7989.0|7786.0|7530.0|7041.0|5263.0|3757.0|3399.0|3177.0|3150.0|[1163.0,645.0,461...|\n",
      "|2023.0|1349.0| 921.0|744.0|680.0| 844.0|1579.0|2594.0|3676.0|4422.0|5711.0|6232.0|6134.0|5847.0|5654.0|5739.0|5680.0|5852.0|4917.0|3686.0|2823.0|2561.0|3025.0|3151.0|[2023.0,1349.0,92...|\n",
      "|2033.0|1212.0| 849.0|701.0|612.0| 791.0|1449.0|2014.0|2754.0|3340.0|4206.0|4684.0|4818.0|4853.0|4942.0|4916.0|4924.0|5398.0|4444.0|2969.0|2215.0|2043.0|2728.0|2953.0|[2033.0,1212.0,84...|\n",
      "|1976.0|1175.0| 817.0|645.0|570.0| 737.0|1474.0|2163.0|3036.0|3650.0|4535.0|5129.0|5477.0|5385.0|5528.0|5594.0|5626.0|6102.0|4840.0|3289.0|2416.0|2265.0|2856.0|3094.0|[1976.0,1175.0,81...|\n",
      "|2447.0|1591.0|1084.0|859.0|686.0| 612.0| 889.0|1414.0|1997.0|3323.0|4677.0|5292.0|5256.0|4861.0|4676.0|4836.0|5205.0|5505.0|4359.0|3319.0|2955.0|2645.0|2421.0|1874.0|[2447.0,1591.0,10...|\n",
      "|2319.0|1568.0|1099.0|953.0|661.0| 603.0| 849.0|1248.0|1624.0|2454.0|3390.0|4084.0|4320.0|4263.0|4230.0|4652.0|4949.0|5422.0|4183.0|2989.0|2559.0|2346.0|2021.0|1601.0|[2319.0,1568.0,10...|\n",
      "+------+------+------+-----+-----+------+------+------+------+------+------+------+------+------+------+------+------+------+------+------+------+------+------+------+--------------------+\n",
      "only showing top 20 rows\n",
      "\n"
     ]
    }
   ],
   "source": [
    "from pyspark.ml.feature import StringIndexer, OneHotEncoder, VectorAssembler\n",
    "\n",
    "assembler = VectorAssembler(inputCols=columns,    outputCol='features')\n",
    "trainingData = assembler.transform(df1)\n",
    "trainingData.show()"
   ]
  },
  {
   "cell_type": "markdown",
   "metadata": {},
   "source": [
    "# Bisecting KMeans\n",
    "----------------------\n",
    "Bisecting k-Means is like a combination of k-Means and hierarchical clustering. Instead of partitioning the data into ‘k’\n",
    "clusters in each iteration, Bisecting k-means splits one cluster into two sub clusters at each bisecting step(by using k-means) until k clusters are obtained.\n",
    "\n",
    "Basic Bisecting K-means Algorithm for finding KClusters\n",
    "1. Pick a cluster to split.\n",
    "2. Find 2 sub-clusters using the basic K-means algorithm.\n",
    "(Bisecting step)\n",
    "3. Repeat step 2, the bisecting step, for ITER times and take\n",
    "the split that produces the clustering with the highest\n",
    "overall similarity.\n",
    "4. Repeat steps 1, 2 and 3 until the desired number of clusters\n",
    "is reached."
   ]
  },
  {
   "cell_type": "code",
   "execution_count": 36,
   "metadata": {},
   "outputs": [
    {
     "name": "stdout",
     "output_type": "stream",
     "text": [
      "Silhouette with squared euclidean distance = 0.9106736381072702\n",
      "Cluster Centers: \n"
     ]
    },
    {
     "data": {
      "image/png": "[encoded data removed]",
      "text/plain": [
       "<Figure size 432x288 with 1 Axes>"
      ]
     },
     "metadata": {
      "needs_background": "light"
     },
     "output_type": "display_data"
    }
   ],
   "source": [
    "from pyspark.ml.clustering import BisectingKMeans\n",
    "from pyspark.ml.evaluation import ClusteringEvaluator\n",
    "import matplotlib.pyplot as plt\n",
    "\n",
    "# Trains a bisecting k-means model.\n",
    "bkm = BisectingKMeans().setK(2).setSeed(101)\n",
    "model = bkm.fit(trainingData)\n",
    "\n",
    "# Make predictions\n",
    "predictions = model.transform(trainingData)\n",
    "\n",
    "# Evaluate clustering by computing Silhouette score\n",
    "evaluator = ClusteringEvaluator()\n",
    "silhouette = evaluator.evaluate(predictions)\n",
    "print(\"Silhouette with squared euclidean distance = \" + str(silhouette))\n",
    "\n",
    "# Shows the result.\n",
    "print(\"Cluster Centers: \")\n",
    "centers = model.clusterCenters()\n",
    "for center in centers:\n",
    "    plt.plot(center)\n",
    "    plt.xlabel(\"hour of the day\")\n",
    "    plt.xticks(range(0, 24))\n",
    "    plt.ylabel(\"Avg traffic volume\")\n",
    "    plt.title(\"Clusters\")"
   ]
  },
  {
   "cell_type": "code",
   "execution_count": 34,
   "metadata": {},
   "outputs": [
    {
     "data": {
      "text/html": [
       "<div>\n",
       "<style scoped>\n",
       "    .dataframe tbody tr th:only-of-type {\n",
       "        vertical-align: middle;\n",
       "    }\n",
       "\n",
       "    .dataframe tbody tr th {\n",
       "        vertical-align: top;\n",
       "    }\n",
       "\n",
       "    .dataframe thead th {\n",
       "        text-align: right;\n",
       "    }\n",
       "</style>\n",
       "<table border=\"1\" class=\"dataframe\">\n",
       "  <thead>\n",
       "    <tr style=\"text-align: right;\">\n",
       "      <th></th>\n",
       "      <th>features</th>\n",
       "      <th>prediction</th>\n",
       "    </tr>\n",
       "  </thead>\n",
       "  <tbody>\n",
       "    <tr>\n",
       "      <th>0</th>\n",
       "      <td>[1314.0, 835.0, 636.0, 562.0, 531.0, 701.0, 14...</td>\n",
       "      <td>1</td>\n",
       "    </tr>\n",
       "    <tr>\n",
       "      <th>1</th>\n",
       "      <td>[1189.0, 597.0, 495.0, 391.0, 526.0, 1173.0, 3...</td>\n",
       "      <td>1</td>\n",
       "    </tr>\n",
       "    <tr>\n",
       "      <th>2</th>\n",
       "      <td>[836.0, 461.0, 316.0, 299.0, 442.0, 1080.0, 29...</td>\n",
       "      <td>1</td>\n",
       "    </tr>\n",
       "    <tr>\n",
       "      <th>3</th>\n",
       "      <td>[1344.0, 742.0, 483.0, 423.0, 414.0, 722.0, 21...</td>\n",
       "      <td>1</td>\n",
       "    </tr>\n",
       "    <tr>\n",
       "      <th>4</th>\n",
       "      <td>[1178.0, 620.0, 421.0, 359.0, 422.0, 902.0, 25...</td>\n",
       "      <td>1</td>\n",
       "    </tr>\n",
       "  </tbody>\n",
       "</table>\n",
       "</div>"
      ],
      "text/plain": [
       "                                            features  prediction\n",
       "0  [1314.0, 835.0, 636.0, 562.0, 531.0, 701.0, 14...           1\n",
       "1  [1189.0, 597.0, 495.0, 391.0, 526.0, 1173.0, 3...           1\n",
       "2  [836.0, 461.0, 316.0, 299.0, 442.0, 1080.0, 29...           1\n",
       "3  [1344.0, 742.0, 483.0, 423.0, 414.0, 722.0, 21...           1\n",
       "4  [1178.0, 620.0, 421.0, 359.0, 422.0, 902.0, 25...           1"
      ]
     },
     "execution_count": 34,
     "metadata": {},
     "output_type": "execute_result"
    }
   ],
   "source": [
    "predictions.select(\"features\",\"prediction\").limit(5).toPandas()"
   ]
  },
  {
   "cell_type": "markdown",
   "metadata": {},
   "source": [
    "From the above graph, we can conclude that blue line represents the cluster that contains traffic volumes for weekdays and \n",
    "orange line represents traffic for weekdays."
   ]
  },
  {
   "cell_type": "code",
   "execution_count": null,
   "metadata": {},
   "outputs": [],
   "source": []
  }
 ],
 "metadata": {
  "kernelspec": {
   "display_name": "Python 3",
   "language": "python",
   "name": "python3"
  },
  "language_info": {
   "codemirror_mode": {
    "name": "ipython",
    "version": 3
   },
   "file_extension": ".py",
   "mimetype": "text/x-python",
   "name": "python",
   "nbconvert_exporter": "python",
   "pygments_lexer": "ipython3",
   "version": "3.8.3"
  }
 },
 "nbformat": 4,
 "nbformat_minor": 4
}
