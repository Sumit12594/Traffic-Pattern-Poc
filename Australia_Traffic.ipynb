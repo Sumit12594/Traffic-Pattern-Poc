{
 "cells": [
  {
   "cell_type": "code",
   "execution_count": 1,
   "metadata": {},
   "outputs": [],
   "source": [
    "import pandas as pd\n",
    "import re\n",
    "import numpy as np\n",
    "import matplotlib.pyplot as plt\n",
    "from sklearn import linear_model\n",
    "from sklearn import model_selection\n",
    "from sklearn import preprocessing\n",
    "from sklearn import metrics\n",
    "import scipy.cluster.hierarchy as hac"
   ]
  },
  {
   "cell_type": "code",
   "execution_count": 2,
   "metadata": {},
   "outputs": [
    {
     "data": {
      "text/html": [
       "<div>\n",
       "<style scoped>\n",
       "    .dataframe tbody tr th:only-of-type {\n",
       "        vertical-align: middle;\n",
       "    }\n",
       "\n",
       "    .dataframe tbody tr th {\n",
       "        vertical-align: top;\n",
       "    }\n",
       "\n",
       "    .dataframe thead th {\n",
       "        text-align: right;\n",
       "    }\n",
       "</style>\n",
       "<table border=\"1\" class=\"dataframe\">\n",
       "  <thead>\n",
       "    <tr style=\"text-align: right;\">\n",
       "      <th></th>\n",
       "      <th>HMGNS_FLOW_ID</th>\n",
       "      <th>HMGNS_LNK_ID</th>\n",
       "      <th>HMGNS_LNK_DESC</th>\n",
       "      <th>FLOW</th>\n",
       "      <th>DOW</th>\n",
       "      <th>COUNT_TYPE</th>\n",
       "      <th>PERIOD_TYPE</th>\n",
       "      <th>0:00</th>\n",
       "      <th>1:00</th>\n",
       "      <th>2:00</th>\n",
       "      <th>...</th>\n",
       "      <th>14:00</th>\n",
       "      <th>15:00</th>\n",
       "      <th>16:00</th>\n",
       "      <th>17:00</th>\n",
       "      <th>18:00</th>\n",
       "      <th>19:00</th>\n",
       "      <th>20:00</th>\n",
       "      <th>21:00</th>\n",
       "      <th>22:00</th>\n",
       "      <th>23:00</th>\n",
       "    </tr>\n",
       "  </thead>\n",
       "  <tbody>\n",
       "    <tr>\n",
       "      <th>0</th>\n",
       "      <td>2</td>\n",
       "      <td>7581</td>\n",
       "      <td>MONASH FREEWAY btwn MONASH FREEWAY Offramp &amp; ...</td>\n",
       "      <td>EAST BOUND</td>\n",
       "      <td>1</td>\n",
       "      <td>Erte</td>\n",
       "      <td>LONG WKND/PUB HOL/OTHER</td>\n",
       "      <td>1314</td>\n",
       "      <td>835</td>\n",
       "      <td>636</td>\n",
       "      <td>...</td>\n",
       "      <td>5030</td>\n",
       "      <td>5891</td>\n",
       "      <td>6279</td>\n",
       "      <td>6708</td>\n",
       "      <td>5039</td>\n",
       "      <td>3358</td>\n",
       "      <td>2853</td>\n",
       "      <td>2496</td>\n",
       "      <td>2205</td>\n",
       "      <td>1804</td>\n",
       "    </tr>\n",
       "    <tr>\n",
       "      <th>1</th>\n",
       "      <td>2</td>\n",
       "      <td>7581</td>\n",
       "      <td>MONASH FREEWAY btwn MONASH FREEWAY Offramp &amp; ...</td>\n",
       "      <td>EAST BOUND</td>\n",
       "      <td>1</td>\n",
       "      <td>Erte</td>\n",
       "      <td>SCHOOL HOLIDAY</td>\n",
       "      <td>1189</td>\n",
       "      <td>597</td>\n",
       "      <td>495</td>\n",
       "      <td>...</td>\n",
       "      <td>5874</td>\n",
       "      <td>7934</td>\n",
       "      <td>8342</td>\n",
       "      <td>8761</td>\n",
       "      <td>7501</td>\n",
       "      <td>4594</td>\n",
       "      <td>3063</td>\n",
       "      <td>2663</td>\n",
       "      <td>2347</td>\n",
       "      <td>1803</td>\n",
       "    </tr>\n",
       "    <tr>\n",
       "      <th>2</th>\n",
       "      <td>2</td>\n",
       "      <td>7581</td>\n",
       "      <td>MONASH FREEWAY btwn MONASH FREEWAY Offramp &amp; ...</td>\n",
       "      <td>EAST BOUND</td>\n",
       "      <td>1</td>\n",
       "      <td>Erte</td>\n",
       "      <td>SCHOOL TERM/NORMAL</td>\n",
       "      <td>836</td>\n",
       "      <td>461</td>\n",
       "      <td>316</td>\n",
       "      <td>...</td>\n",
       "      <td>5951</td>\n",
       "      <td>7453</td>\n",
       "      <td>7955</td>\n",
       "      <td>8152</td>\n",
       "      <td>6779</td>\n",
       "      <td>4002</td>\n",
       "      <td>2834</td>\n",
       "      <td>2569</td>\n",
       "      <td>2116</td>\n",
       "      <td>1415</td>\n",
       "    </tr>\n",
       "    <tr>\n",
       "      <th>3</th>\n",
       "      <td>2</td>\n",
       "      <td>7581</td>\n",
       "      <td>MONASH FREEWAY btwn MONASH FREEWAY Offramp &amp; ...</td>\n",
       "      <td>EAST BOUND</td>\n",
       "      <td>2</td>\n",
       "      <td>Erte</td>\n",
       "      <td>LONG WKND/PUB HOL/OTHER</td>\n",
       "      <td>1344</td>\n",
       "      <td>742</td>\n",
       "      <td>483</td>\n",
       "      <td>...</td>\n",
       "      <td>5360</td>\n",
       "      <td>6594</td>\n",
       "      <td>7558</td>\n",
       "      <td>8058</td>\n",
       "      <td>7209</td>\n",
       "      <td>4988</td>\n",
       "      <td>3619</td>\n",
       "      <td>3071</td>\n",
       "      <td>2671</td>\n",
       "      <td>2587</td>\n",
       "    </tr>\n",
       "    <tr>\n",
       "      <th>4</th>\n",
       "      <td>2</td>\n",
       "      <td>7581</td>\n",
       "      <td>MONASH FREEWAY btwn MONASH FREEWAY Offramp &amp; ...</td>\n",
       "      <td>EAST BOUND</td>\n",
       "      <td>2</td>\n",
       "      <td>Erte</td>\n",
       "      <td>SCHOOL HOLIDAY</td>\n",
       "      <td>1178</td>\n",
       "      <td>620</td>\n",
       "      <td>421</td>\n",
       "      <td>...</td>\n",
       "      <td>5389</td>\n",
       "      <td>6880</td>\n",
       "      <td>7325</td>\n",
       "      <td>7902</td>\n",
       "      <td>6707</td>\n",
       "      <td>4305</td>\n",
       "      <td>3059</td>\n",
       "      <td>2744</td>\n",
       "      <td>2477</td>\n",
       "      <td>2048</td>\n",
       "    </tr>\n",
       "  </tbody>\n",
       "</table>\n",
       "<p>5 rows × 31 columns</p>\n",
       "</div>"
      ],
      "text/plain": [
       "   HMGNS_FLOW_ID  HMGNS_LNK_ID  \\\n",
       "0              2          7581   \n",
       "1              2          7581   \n",
       "2              2          7581   \n",
       "3              2          7581   \n",
       "4              2          7581   \n",
       "\n",
       "                                      HMGNS_LNK_DESC        FLOW  DOW  \\\n",
       "0   MONASH FREEWAY btwn MONASH FREEWAY Offramp & ...  EAST BOUND    1   \n",
       "1   MONASH FREEWAY btwn MONASH FREEWAY Offramp & ...  EAST BOUND    1   \n",
       "2   MONASH FREEWAY btwn MONASH FREEWAY Offramp & ...  EAST BOUND    1   \n",
       "3   MONASH FREEWAY btwn MONASH FREEWAY Offramp & ...  EAST BOUND    2   \n",
       "4   MONASH FREEWAY btwn MONASH FREEWAY Offramp & ...  EAST BOUND    2   \n",
       "\n",
       "  COUNT_TYPE              PERIOD_TYPE  0:00  1:00  2:00  ...  14:00  15:00  \\\n",
       "0       Erte  LONG WKND/PUB HOL/OTHER  1314   835   636  ...   5030   5891   \n",
       "1       Erte           SCHOOL HOLIDAY  1189   597   495  ...   5874   7934   \n",
       "2       Erte       SCHOOL TERM/NORMAL   836   461   316  ...   5951   7453   \n",
       "3       Erte  LONG WKND/PUB HOL/OTHER  1344   742   483  ...   5360   6594   \n",
       "4       Erte           SCHOOL HOLIDAY  1178   620   421  ...   5389   6880   \n",
       "\n",
       "   16:00  17:00  18:00  19:00  20:00  21:00  22:00  23:00  \n",
       "0   6279   6708   5039   3358   2853   2496   2205   1804  \n",
       "1   8342   8761   7501   4594   3063   2663   2347   1803  \n",
       "2   7955   8152   6779   4002   2834   2569   2116   1415  \n",
       "3   7558   8058   7209   4988   3619   3071   2671   2587  \n",
       "4   7325   7902   6707   4305   3059   2744   2477   2048  \n",
       "\n",
       "[5 rows x 31 columns]"
      ]
     },
     "execution_count": 2,
     "metadata": {},
     "output_type": "execute_result"
    }
   ],
   "source": [
    "import os\n",
    "os.chdir('C:/Users/veua/Downloads/')\n",
    "df_raw = pd.read_csv('TYPICAL_HOURLY_VOLUME_DATA.csv')\n",
    "df_raw.head()"
   ]
  },
  {
   "cell_type": "code",
   "execution_count": 3,
   "metadata": {},
   "outputs": [
    {
     "data": {
      "text/html": [
       "<div>\n",
       "<style scoped>\n",
       "    .dataframe tbody tr th:only-of-type {\n",
       "        vertical-align: middle;\n",
       "    }\n",
       "\n",
       "    .dataframe tbody tr th {\n",
       "        vertical-align: top;\n",
       "    }\n",
       "\n",
       "    .dataframe thead th {\n",
       "        text-align: right;\n",
       "    }\n",
       "</style>\n",
       "<table border=\"1\" class=\"dataframe\">\n",
       "  <thead>\n",
       "    <tr style=\"text-align: right;\">\n",
       "      <th></th>\n",
       "      <th>HMGNS_FLOW_ID</th>\n",
       "      <th>HMGNS_LNK_ID</th>\n",
       "      <th>HMGNS_LNK_DESC</th>\n",
       "      <th>FLOW</th>\n",
       "      <th>DOW</th>\n",
       "      <th>COUNT_TYPE</th>\n",
       "      <th>PERIOD_TYPE</th>\n",
       "      <th>hour_in_day</th>\n",
       "      <th>traffic_count</th>\n",
       "    </tr>\n",
       "  </thead>\n",
       "  <tbody>\n",
       "    <tr>\n",
       "      <th>0</th>\n",
       "      <td>2</td>\n",
       "      <td>7581</td>\n",
       "      <td>MONASH FREEWAY btwn MONASH FREEWAY Offramp &amp; ...</td>\n",
       "      <td>EAST BOUND</td>\n",
       "      <td>1</td>\n",
       "      <td>Erte</td>\n",
       "      <td>LONG WKND/PUB HOL/OTHER</td>\n",
       "      <td>0:00</td>\n",
       "      <td>1314</td>\n",
       "    </tr>\n",
       "    <tr>\n",
       "      <th>1</th>\n",
       "      <td>2</td>\n",
       "      <td>7581</td>\n",
       "      <td>MONASH FREEWAY btwn MONASH FREEWAY Offramp &amp; ...</td>\n",
       "      <td>EAST BOUND</td>\n",
       "      <td>1</td>\n",
       "      <td>Erte</td>\n",
       "      <td>SCHOOL HOLIDAY</td>\n",
       "      <td>0:00</td>\n",
       "      <td>1189</td>\n",
       "    </tr>\n",
       "    <tr>\n",
       "      <th>2</th>\n",
       "      <td>2</td>\n",
       "      <td>7581</td>\n",
       "      <td>MONASH FREEWAY btwn MONASH FREEWAY Offramp &amp; ...</td>\n",
       "      <td>EAST BOUND</td>\n",
       "      <td>1</td>\n",
       "      <td>Erte</td>\n",
       "      <td>SCHOOL TERM/NORMAL</td>\n",
       "      <td>0:00</td>\n",
       "      <td>836</td>\n",
       "    </tr>\n",
       "    <tr>\n",
       "      <th>3</th>\n",
       "      <td>2</td>\n",
       "      <td>7581</td>\n",
       "      <td>MONASH FREEWAY btwn MONASH FREEWAY Offramp &amp; ...</td>\n",
       "      <td>EAST BOUND</td>\n",
       "      <td>2</td>\n",
       "      <td>Erte</td>\n",
       "      <td>LONG WKND/PUB HOL/OTHER</td>\n",
       "      <td>0:00</td>\n",
       "      <td>1344</td>\n",
       "    </tr>\n",
       "    <tr>\n",
       "      <th>4</th>\n",
       "      <td>2</td>\n",
       "      <td>7581</td>\n",
       "      <td>MONASH FREEWAY btwn MONASH FREEWAY Offramp &amp; ...</td>\n",
       "      <td>EAST BOUND</td>\n",
       "      <td>2</td>\n",
       "      <td>Erte</td>\n",
       "      <td>SCHOOL HOLIDAY</td>\n",
       "      <td>0:00</td>\n",
       "      <td>1178</td>\n",
       "    </tr>\n",
       "  </tbody>\n",
       "</table>\n",
       "</div>"
      ],
      "text/plain": [
       "   HMGNS_FLOW_ID  HMGNS_LNK_ID  \\\n",
       "0              2          7581   \n",
       "1              2          7581   \n",
       "2              2          7581   \n",
       "3              2          7581   \n",
       "4              2          7581   \n",
       "\n",
       "                                      HMGNS_LNK_DESC        FLOW  DOW  \\\n",
       "0   MONASH FREEWAY btwn MONASH FREEWAY Offramp & ...  EAST BOUND    1   \n",
       "1   MONASH FREEWAY btwn MONASH FREEWAY Offramp & ...  EAST BOUND    1   \n",
       "2   MONASH FREEWAY btwn MONASH FREEWAY Offramp & ...  EAST BOUND    1   \n",
       "3   MONASH FREEWAY btwn MONASH FREEWAY Offramp & ...  EAST BOUND    2   \n",
       "4   MONASH FREEWAY btwn MONASH FREEWAY Offramp & ...  EAST BOUND    2   \n",
       "\n",
       "  COUNT_TYPE              PERIOD_TYPE hour_in_day  traffic_count  \n",
       "0       Erte  LONG WKND/PUB HOL/OTHER        0:00           1314  \n",
       "1       Erte           SCHOOL HOLIDAY        0:00           1189  \n",
       "2       Erte       SCHOOL TERM/NORMAL        0:00            836  \n",
       "3       Erte  LONG WKND/PUB HOL/OTHER        0:00           1344  \n",
       "4       Erte           SCHOOL HOLIDAY        0:00           1178  "
      ]
     },
     "execution_count": 3,
     "metadata": {},
     "output_type": "execute_result"
    }
   ],
   "source": [
    "df_melt = pd.melt(df_raw,id_vars=df_raw.columns[:7],value_vars = df_raw.columns[7:],var_name='hour_in_day',value_name='traffic_count')\n",
    "df_melt.head()"
   ]
  },
  {
   "cell_type": "code",
   "execution_count": 4,
   "metadata": {},
   "outputs": [
    {
     "data": {
      "text/html": [
       "<div>\n",
       "<style scoped>\n",
       "    .dataframe tbody tr th:only-of-type {\n",
       "        vertical-align: middle;\n",
       "    }\n",
       "\n",
       "    .dataframe tbody tr th {\n",
       "        vertical-align: top;\n",
       "    }\n",
       "\n",
       "    .dataframe thead th {\n",
       "        text-align: right;\n",
       "    }\n",
       "</style>\n",
       "<table border=\"1\" class=\"dataframe\">\n",
       "  <thead>\n",
       "    <tr style=\"text-align: right;\">\n",
       "      <th></th>\n",
       "      <th>HMGNS_FLOW_ID</th>\n",
       "      <th>HMGNS_LNK_ID</th>\n",
       "      <th>HMGNS_LNK_DESC</th>\n",
       "      <th>FLOW</th>\n",
       "      <th>DOW</th>\n",
       "      <th>COUNT_TYPE</th>\n",
       "      <th>PERIOD_TYPE</th>\n",
       "      <th>hour_in_day</th>\n",
       "      <th>traffic_count</th>\n",
       "    </tr>\n",
       "  </thead>\n",
       "  <tbody>\n",
       "    <tr>\n",
       "      <th>0</th>\n",
       "      <td>2</td>\n",
       "      <td>7581</td>\n",
       "      <td>MONASH FREEWAY btwn MONASH FREEWAY Offramp &amp; ...</td>\n",
       "      <td>EAST BOUND</td>\n",
       "      <td>1</td>\n",
       "      <td>Erte</td>\n",
       "      <td>LONG WKND/PUB HOL/OTHER</td>\n",
       "      <td>0:00</td>\n",
       "      <td>1314</td>\n",
       "    </tr>\n",
       "    <tr>\n",
       "      <th>1</th>\n",
       "      <td>2</td>\n",
       "      <td>7581</td>\n",
       "      <td>MONASH FREEWAY btwn MONASH FREEWAY Offramp &amp; ...</td>\n",
       "      <td>EAST BOUND</td>\n",
       "      <td>1</td>\n",
       "      <td>Erte</td>\n",
       "      <td>SCHOOL HOLIDAY</td>\n",
       "      <td>0:00</td>\n",
       "      <td>1189</td>\n",
       "    </tr>\n",
       "    <tr>\n",
       "      <th>2</th>\n",
       "      <td>2</td>\n",
       "      <td>7581</td>\n",
       "      <td>MONASH FREEWAY btwn MONASH FREEWAY Offramp &amp; ...</td>\n",
       "      <td>EAST BOUND</td>\n",
       "      <td>1</td>\n",
       "      <td>Erte</td>\n",
       "      <td>SCHOOL TERM/NORMAL</td>\n",
       "      <td>0:00</td>\n",
       "      <td>836</td>\n",
       "    </tr>\n",
       "    <tr>\n",
       "      <th>3</th>\n",
       "      <td>2</td>\n",
       "      <td>7581</td>\n",
       "      <td>MONASH FREEWAY btwn MONASH FREEWAY Offramp &amp; ...</td>\n",
       "      <td>EAST BOUND</td>\n",
       "      <td>2</td>\n",
       "      <td>Erte</td>\n",
       "      <td>LONG WKND/PUB HOL/OTHER</td>\n",
       "      <td>0:00</td>\n",
       "      <td>1344</td>\n",
       "    </tr>\n",
       "    <tr>\n",
       "      <th>4</th>\n",
       "      <td>2</td>\n",
       "      <td>7581</td>\n",
       "      <td>MONASH FREEWAY btwn MONASH FREEWAY Offramp &amp; ...</td>\n",
       "      <td>EAST BOUND</td>\n",
       "      <td>2</td>\n",
       "      <td>Erte</td>\n",
       "      <td>SCHOOL HOLIDAY</td>\n",
       "      <td>0:00</td>\n",
       "      <td>1178</td>\n",
       "    </tr>\n",
       "  </tbody>\n",
       "</table>\n",
       "</div>"
      ],
      "text/plain": [
       "   HMGNS_FLOW_ID  HMGNS_LNK_ID  \\\n",
       "0              2          7581   \n",
       "1              2          7581   \n",
       "2              2          7581   \n",
       "3              2          7581   \n",
       "4              2          7581   \n",
       "\n",
       "                                      HMGNS_LNK_DESC        FLOW  DOW  \\\n",
       "0   MONASH FREEWAY btwn MONASH FREEWAY Offramp & ...  EAST BOUND    1   \n",
       "1   MONASH FREEWAY btwn MONASH FREEWAY Offramp & ...  EAST BOUND    1   \n",
       "2   MONASH FREEWAY btwn MONASH FREEWAY Offramp & ...  EAST BOUND    1   \n",
       "3   MONASH FREEWAY btwn MONASH FREEWAY Offramp & ...  EAST BOUND    2   \n",
       "4   MONASH FREEWAY btwn MONASH FREEWAY Offramp & ...  EAST BOUND    2   \n",
       "\n",
       "  COUNT_TYPE              PERIOD_TYPE hour_in_day  traffic_count  \n",
       "0       Erte  LONG WKND/PUB HOL/OTHER        0:00           1314  \n",
       "1       Erte           SCHOOL HOLIDAY        0:00           1189  \n",
       "2       Erte       SCHOOL TERM/NORMAL        0:00            836  \n",
       "3       Erte  LONG WKND/PUB HOL/OTHER        0:00           1344  \n",
       "4       Erte           SCHOOL HOLIDAY        0:00           1178  "
      ]
     },
     "execution_count": 4,
     "metadata": {},
     "output_type": "execute_result"
    }
   ],
   "source": [
    "df_base = df_melt.loc[(df_melt['HMGNS_LNK_DESC'].notna()) &\n",
    "                      (df_melt['HMGNS_LNK_DESC'].str.contains('^[ ]MONASH FREEWAY',flags=re.I, regex=True)), :].copy()\n",
    "df_base.head()"
   ]
  },
  {
   "cell_type": "code",
   "execution_count": 5,
   "metadata": {},
   "outputs": [
    {
     "data": {
      "text/plain": [
       "(37296, 9)"
      ]
     },
     "execution_count": 5,
     "metadata": {},
     "output_type": "execute_result"
    }
   ],
   "source": [
    "df_base.shape"
   ]
  },
  {
   "cell_type": "code",
   "execution_count": 6,
   "metadata": {},
   "outputs": [
    {
     "data": {
      "text/html": [
       "<div>\n",
       "<style scoped>\n",
       "    .dataframe tbody tr th:only-of-type {\n",
       "        vertical-align: middle;\n",
       "    }\n",
       "\n",
       "    .dataframe tbody tr th {\n",
       "        vertical-align: top;\n",
       "    }\n",
       "\n",
       "    .dataframe thead th {\n",
       "        text-align: right;\n",
       "    }\n",
       "</style>\n",
       "<table border=\"1\" class=\"dataframe\">\n",
       "  <thead>\n",
       "    <tr style=\"text-align: right;\">\n",
       "      <th></th>\n",
       "      <th>HMGNS_FLOW_ID</th>\n",
       "      <th>HMGNS_LNK_ID</th>\n",
       "      <th>DOW</th>\n",
       "      <th>traffic_count</th>\n",
       "    </tr>\n",
       "  </thead>\n",
       "  <tbody>\n",
       "    <tr>\n",
       "      <th>count</th>\n",
       "      <td>37296.000000</td>\n",
       "      <td>37296.000000</td>\n",
       "      <td>37296.000000</td>\n",
       "      <td>37296.000000</td>\n",
       "    </tr>\n",
       "    <tr>\n",
       "      <th>mean</th>\n",
       "      <td>4579.337838</td>\n",
       "      <td>3532.540541</td>\n",
       "      <td>4.000000</td>\n",
       "      <td>2883.362264</td>\n",
       "    </tr>\n",
       "    <tr>\n",
       "      <th>std</th>\n",
       "      <td>4474.517361</td>\n",
       "      <td>3664.124749</td>\n",
       "      <td>2.000027</td>\n",
       "      <td>2101.628254</td>\n",
       "    </tr>\n",
       "    <tr>\n",
       "      <th>min</th>\n",
       "      <td>2.000000</td>\n",
       "      <td>2.000000</td>\n",
       "      <td>1.000000</td>\n",
       "      <td>34.000000</td>\n",
       "    </tr>\n",
       "    <tr>\n",
       "      <th>25%</th>\n",
       "      <td>368.000000</td>\n",
       "      <td>343.000000</td>\n",
       "      <td>2.000000</td>\n",
       "      <td>1004.000000</td>\n",
       "    </tr>\n",
       "    <tr>\n",
       "      <th>50%</th>\n",
       "      <td>6566.500000</td>\n",
       "      <td>441.000000</td>\n",
       "      <td>4.000000</td>\n",
       "      <td>2538.000000</td>\n",
       "    </tr>\n",
       "    <tr>\n",
       "      <th>75%</th>\n",
       "      <td>7470.000000</td>\n",
       "      <td>7682.000000</td>\n",
       "      <td>6.000000</td>\n",
       "      <td>4507.000000</td>\n",
       "    </tr>\n",
       "    <tr>\n",
       "      <th>max</th>\n",
       "      <td>15480.000000</td>\n",
       "      <td>8726.000000</td>\n",
       "      <td>7.000000</td>\n",
       "      <td>10801.000000</td>\n",
       "    </tr>\n",
       "  </tbody>\n",
       "</table>\n",
       "</div>"
      ],
      "text/plain": [
       "       HMGNS_FLOW_ID  HMGNS_LNK_ID           DOW  traffic_count\n",
       "count   37296.000000  37296.000000  37296.000000   37296.000000\n",
       "mean     4579.337838   3532.540541      4.000000    2883.362264\n",
       "std      4474.517361   3664.124749      2.000027    2101.628254\n",
       "min         2.000000      2.000000      1.000000      34.000000\n",
       "25%       368.000000    343.000000      2.000000    1004.000000\n",
       "50%      6566.500000    441.000000      4.000000    2538.000000\n",
       "75%      7470.000000   7682.000000      6.000000    4507.000000\n",
       "max     15480.000000   8726.000000      7.000000   10801.000000"
      ]
     },
     "execution_count": 6,
     "metadata": {},
     "output_type": "execute_result"
    }
   ],
   "source": [
    "df_base.describe()"
   ]
  },
  {
   "cell_type": "code",
   "execution_count": 7,
   "metadata": {},
   "outputs": [],
   "source": [
    "df_base['direction'] = df_base['FLOW'].apply(lambda x: 'Outbound' if x in ['EAST BOUND', 'SOUTH EAST BOUND', 'SOUTH BOUND']\n",
    "                                            else 'Inbound')"
   ]
  },
  {
   "cell_type": "code",
   "execution_count": 8,
   "metadata": {},
   "outputs": [],
   "source": [
    "df_pivot = df_base.pivot_table(columns='direction', index=['DOW', 'hour_in_day', 'HMGNS_LNK_DESC'], values='traffic_count', aggfunc='mean')\n",
    "df_pivot.reset_index(inplace=True)\n",
    "df_pivot['hour_in_day'] = df_pivot['hour_in_day'].str.split(':', expand=True).astype('int64')"
   ]
  },
  {
   "cell_type": "code",
   "execution_count": 9,
   "metadata": {},
   "outputs": [
    {
     "data": {
      "text/html": [
       "<div>\n",
       "<style scoped>\n",
       "    .dataframe tbody tr th:only-of-type {\n",
       "        vertical-align: middle;\n",
       "    }\n",
       "\n",
       "    .dataframe tbody tr th {\n",
       "        vertical-align: top;\n",
       "    }\n",
       "\n",
       "    .dataframe thead th {\n",
       "        text-align: right;\n",
       "    }\n",
       "</style>\n",
       "<table border=\"1\" class=\"dataframe\">\n",
       "  <thead>\n",
       "    <tr style=\"text-align: right;\">\n",
       "      <th>direction</th>\n",
       "      <th>DOW</th>\n",
       "      <th>hour_in_day</th>\n",
       "      <th>HMGNS_LNK_DESC</th>\n",
       "      <th>Inbound</th>\n",
       "      <th>Outbound</th>\n",
       "    </tr>\n",
       "  </thead>\n",
       "  <tbody>\n",
       "    <tr>\n",
       "      <th>0</th>\n",
       "      <td>1</td>\n",
       "      <td>0</td>\n",
       "      <td>MONASH FREEWAY btwn BELGRAVE-HALLAM ROAD &amp; MO...</td>\n",
       "      <td>359.666667</td>\n",
       "      <td>568.000000</td>\n",
       "    </tr>\n",
       "    <tr>\n",
       "      <th>1</th>\n",
       "      <td>1</td>\n",
       "      <td>0</td>\n",
       "      <td>MONASH FREEWAY btwn BLACKBURN ROAD &amp; MONASH F...</td>\n",
       "      <td>640.333333</td>\n",
       "      <td>1179.333333</td>\n",
       "    </tr>\n",
       "    <tr>\n",
       "      <th>2</th>\n",
       "      <td>1</td>\n",
       "      <td>0</td>\n",
       "      <td>MONASH FREEWAY btwn BURKE ROAD &amp; MONASH FREEW...</td>\n",
       "      <td>579.666667</td>\n",
       "      <td>1113.000000</td>\n",
       "    </tr>\n",
       "    <tr>\n",
       "      <th>3</th>\n",
       "      <td>1</td>\n",
       "      <td>0</td>\n",
       "      <td>MONASH FREEWAY btwn Blackburn Rd &amp; Ferntree G...</td>\n",
       "      <td>616.333333</td>\n",
       "      <td>1144.666667</td>\n",
       "    </tr>\n",
       "    <tr>\n",
       "      <th>4</th>\n",
       "      <td>1</td>\n",
       "      <td>0</td>\n",
       "      <td>MONASH FREEWAY btwn Blackburn Rd &amp; Forster Rd</td>\n",
       "      <td>643.666667</td>\n",
       "      <td>1266.333333</td>\n",
       "    </tr>\n",
       "  </tbody>\n",
       "</table>\n",
       "</div>"
      ],
      "text/plain": [
       "direction  DOW  hour_in_day  \\\n",
       "0            1            0   \n",
       "1            1            0   \n",
       "2            1            0   \n",
       "3            1            0   \n",
       "4            1            0   \n",
       "\n",
       "direction                                     HMGNS_LNK_DESC     Inbound  \\\n",
       "0           MONASH FREEWAY btwn BELGRAVE-HALLAM ROAD & MO...  359.666667   \n",
       "1           MONASH FREEWAY btwn BLACKBURN ROAD & MONASH F...  640.333333   \n",
       "2           MONASH FREEWAY btwn BURKE ROAD & MONASH FREEW...  579.666667   \n",
       "3           MONASH FREEWAY btwn Blackburn Rd & Ferntree G...  616.333333   \n",
       "4              MONASH FREEWAY btwn Blackburn Rd & Forster Rd  643.666667   \n",
       "\n",
       "direction     Outbound  \n",
       "0           568.000000  \n",
       "1          1179.333333  \n",
       "2          1113.000000  \n",
       "3          1144.666667  \n",
       "4          1266.333333  "
      ]
     },
     "execution_count": 9,
     "metadata": {},
     "output_type": "execute_result"
    }
   ],
   "source": [
    "df_pivot.head()"
   ]
  },
  {
   "cell_type": "code",
   "execution_count": 10,
   "metadata": {},
   "outputs": [
    {
     "data": {
      "image/png": "[encoded data removed]",
      "text/plain": [
       "<Figure size 432x288 with 1 Axes>"
      ]
     },
     "metadata": {
      "needs_background": "light"
     },
     "output_type": "display_data"
    }
   ],
   "source": [
    "import seaborn\n",
    "\n",
    "lp = seaborn.lineplot(data=df_pivot,\n",
    "                      x='hour_in_day', y='Inbound', hue='DOW', markers=True, dashes=df_pivot, estimator=None,\n",
    "                      legend='full', palette=seaborn.color_palette(\"bright\", n_colors=7))\n",
    "plt.show()"
   ]
  },
  {
   "cell_type": "markdown",
   "metadata": {},
   "source": [
    "<b>From the above graph (\"Inbound vs hour_in_day\"), we can not make out whether any difference exists in the inbound traffic over weekdays(1-Mondays, 2-Tuesdays, 3-Wednesdays, 4-Thursdays, 5-Fridays) \n",
    "and weekends(6-Saturdays, 7-Sundays). So i am going to check out for just one specific homegeneous link description.</b>"
   ]
  },
  {
   "cell_type": "code",
   "execution_count": 11,
   "metadata": {},
   "outputs": [
    {
     "data": {
      "image/png": "[encoded data removed]",
      "text/plain": [
       "<Figure size 432x288 with 1 Axes>"
      ]
     },
     "metadata": {
      "needs_background": "light"
     },
     "output_type": "display_data"
    }
   ],
   "source": [
    "import seaborn\n",
    "\n",
    "lp = seaborn.lineplot(data=df_pivot.loc[df_pivot['HMGNS_LNK_DESC'] == ' MONASH FREEWAY btwn Toorak Rd & Bourke Rd', :],\n",
    "                      x='hour_in_day', y='Inbound', hue='DOW', markers=True, dashes=df_pivot, estimator=None,\n",
    "                      legend='full', palette=seaborn.color_palette(\"bright\", n_colors=7))\n",
    "plt.show()"
   ]
  },
  {
   "cell_type": "markdown",
   "metadata": {},
   "source": [
    "<b>We can cleary observe that the inbound traffic is more on weekdays compared to weekends. The traffic gets heavy over peak hours in the morning (around 6am to 10 am) and again in the evening(4pm to 8pm).</b>"
   ]
  },
  {
   "cell_type": "code",
   "execution_count": 12,
   "metadata": {},
   "outputs": [
    {
     "data": {
      "image/png": "[encoded data removed]",
      "text/plain": [
       "<Figure size 432x288 with 1 Axes>"
      ]
     },
     "metadata": {
      "needs_background": "light"
     },
     "output_type": "display_data"
    }
   ],
   "source": [
    "import seaborn\n",
    "\n",
    "lp = seaborn.lineplot(data=df_pivot.loc[df_pivot['HMGNS_LNK_DESC'] == ' MONASH FREEWAY btwn Toorak Rd & Bourke Rd', :],\n",
    "                      x='hour_in_day', y='Outbound', hue='DOW', markers=True, dashes=df_pivot, estimator=None,\n",
    "                      legend='full', palette=seaborn.color_palette(\"bright\", n_colors=7))\n",
    "plt.show()"
   ]
  },
  {
   "cell_type": "markdown",
   "metadata": {},
   "source": [
    "<b> We can clearly observe that the outbound traffic is more on weekdays compared to weekends. \n",
    "The traffic gets heavy over peak hours in the morning (around 6am to 10 am) and again in the evening(4pm to 8pm).</b>"
   ]
  },
  {
   "cell_type": "markdown",
   "metadata": {},
   "source": [
    "# Hypothesis Testing"
   ]
  },
  {
   "cell_type": "markdown",
   "metadata": {},
   "source": [
    "<b>We are going to  examine whether any difference exists in peak hour traffic volumes over weekdays.</b>\n",
    "\n",
    "For this purpose, we will take the sum of the averages of the 6AM, 7AM, 8AM and 9AM hour for every location for the morning peak observation, and the sum of the averages of the 3PM, 4PM, 5PM and 6PM hour for every location for the afternoon peak observation. \n",
    "\n",
    "The data has been transformed to add two new columns for morning and afternoon peak levels."
   ]
  },
  {
   "cell_type": "code",
   "execution_count": 13,
   "metadata": {},
   "outputs": [
    {
     "data": {
      "text/plain": [
       "Index(['HMGNS_FLOW_ID', 'HMGNS_LNK_ID', 'HMGNS_LNK_DESC', 'FLOW', 'DOW',\n",
       "       'COUNT_TYPE', 'PERIOD_TYPE', '0:00', '1:00', '2:00', '3:00', '4:00',\n",
       "       '5:00', '6:00', '7:00', '8:00', '9:00', '10:00', '11:00', '12:00',\n",
       "       '13:00', '14:00', '15:00', '16:00', '17:00', '18:00', '19:00', '20:00',\n",
       "       '21:00', '22:00', '23:00'],\n",
       "      dtype='object')"
      ]
     },
     "execution_count": 13,
     "metadata": {},
     "output_type": "execute_result"
    }
   ],
   "source": [
    "df_raw.columns"
   ]
  },
  {
   "cell_type": "code",
   "execution_count": 14,
   "metadata": {},
   "outputs": [
    {
     "data": {
      "text/html": [
       "<div>\n",
       "<style scoped>\n",
       "    .dataframe tbody tr th:only-of-type {\n",
       "        vertical-align: middle;\n",
       "    }\n",
       "\n",
       "    .dataframe tbody tr th {\n",
       "        vertical-align: top;\n",
       "    }\n",
       "\n",
       "    .dataframe thead th {\n",
       "        text-align: right;\n",
       "    }\n",
       "</style>\n",
       "<table border=\"1\" class=\"dataframe\">\n",
       "  <thead>\n",
       "    <tr style=\"text-align: right;\">\n",
       "      <th></th>\n",
       "      <th>HMGNS_FLOW_ID</th>\n",
       "      <th>HMGNS_LNK_ID</th>\n",
       "      <th>HMGNS_LNK_DESC</th>\n",
       "      <th>FLOW</th>\n",
       "      <th>DOW</th>\n",
       "      <th>COUNT_TYPE</th>\n",
       "      <th>PERIOD_TYPE</th>\n",
       "      <th>0:00</th>\n",
       "      <th>1:00</th>\n",
       "      <th>2:00</th>\n",
       "      <th>...</th>\n",
       "      <th>14:00</th>\n",
       "      <th>15:00</th>\n",
       "      <th>16:00</th>\n",
       "      <th>17:00</th>\n",
       "      <th>18:00</th>\n",
       "      <th>19:00</th>\n",
       "      <th>20:00</th>\n",
       "      <th>21:00</th>\n",
       "      <th>22:00</th>\n",
       "      <th>23:00</th>\n",
       "    </tr>\n",
       "  </thead>\n",
       "  <tbody>\n",
       "    <tr>\n",
       "      <th>0</th>\n",
       "      <td>2</td>\n",
       "      <td>7581</td>\n",
       "      <td>MONASH FREEWAY btwn MONASH FREEWAY Offramp &amp; ...</td>\n",
       "      <td>EAST BOUND</td>\n",
       "      <td>1</td>\n",
       "      <td>Erte</td>\n",
       "      <td>LONG WKND/PUB HOL/OTHER</td>\n",
       "      <td>1314</td>\n",
       "      <td>835</td>\n",
       "      <td>636</td>\n",
       "      <td>...</td>\n",
       "      <td>5030</td>\n",
       "      <td>5891</td>\n",
       "      <td>6279</td>\n",
       "      <td>6708</td>\n",
       "      <td>5039</td>\n",
       "      <td>3358</td>\n",
       "      <td>2853</td>\n",
       "      <td>2496</td>\n",
       "      <td>2205</td>\n",
       "      <td>1804</td>\n",
       "    </tr>\n",
       "    <tr>\n",
       "      <th>1</th>\n",
       "      <td>2</td>\n",
       "      <td>7581</td>\n",
       "      <td>MONASH FREEWAY btwn MONASH FREEWAY Offramp &amp; ...</td>\n",
       "      <td>EAST BOUND</td>\n",
       "      <td>1</td>\n",
       "      <td>Erte</td>\n",
       "      <td>SCHOOL HOLIDAY</td>\n",
       "      <td>1189</td>\n",
       "      <td>597</td>\n",
       "      <td>495</td>\n",
       "      <td>...</td>\n",
       "      <td>5874</td>\n",
       "      <td>7934</td>\n",
       "      <td>8342</td>\n",
       "      <td>8761</td>\n",
       "      <td>7501</td>\n",
       "      <td>4594</td>\n",
       "      <td>3063</td>\n",
       "      <td>2663</td>\n",
       "      <td>2347</td>\n",
       "      <td>1803</td>\n",
       "    </tr>\n",
       "    <tr>\n",
       "      <th>2</th>\n",
       "      <td>2</td>\n",
       "      <td>7581</td>\n",
       "      <td>MONASH FREEWAY btwn MONASH FREEWAY Offramp &amp; ...</td>\n",
       "      <td>EAST BOUND</td>\n",
       "      <td>1</td>\n",
       "      <td>Erte</td>\n",
       "      <td>SCHOOL TERM/NORMAL</td>\n",
       "      <td>836</td>\n",
       "      <td>461</td>\n",
       "      <td>316</td>\n",
       "      <td>...</td>\n",
       "      <td>5951</td>\n",
       "      <td>7453</td>\n",
       "      <td>7955</td>\n",
       "      <td>8152</td>\n",
       "      <td>6779</td>\n",
       "      <td>4002</td>\n",
       "      <td>2834</td>\n",
       "      <td>2569</td>\n",
       "      <td>2116</td>\n",
       "      <td>1415</td>\n",
       "    </tr>\n",
       "    <tr>\n",
       "      <th>3</th>\n",
       "      <td>2</td>\n",
       "      <td>7581</td>\n",
       "      <td>MONASH FREEWAY btwn MONASH FREEWAY Offramp &amp; ...</td>\n",
       "      <td>EAST BOUND</td>\n",
       "      <td>2</td>\n",
       "      <td>Erte</td>\n",
       "      <td>LONG WKND/PUB HOL/OTHER</td>\n",
       "      <td>1344</td>\n",
       "      <td>742</td>\n",
       "      <td>483</td>\n",
       "      <td>...</td>\n",
       "      <td>5360</td>\n",
       "      <td>6594</td>\n",
       "      <td>7558</td>\n",
       "      <td>8058</td>\n",
       "      <td>7209</td>\n",
       "      <td>4988</td>\n",
       "      <td>3619</td>\n",
       "      <td>3071</td>\n",
       "      <td>2671</td>\n",
       "      <td>2587</td>\n",
       "    </tr>\n",
       "    <tr>\n",
       "      <th>4</th>\n",
       "      <td>2</td>\n",
       "      <td>7581</td>\n",
       "      <td>MONASH FREEWAY btwn MONASH FREEWAY Offramp &amp; ...</td>\n",
       "      <td>EAST BOUND</td>\n",
       "      <td>2</td>\n",
       "      <td>Erte</td>\n",
       "      <td>SCHOOL HOLIDAY</td>\n",
       "      <td>1178</td>\n",
       "      <td>620</td>\n",
       "      <td>421</td>\n",
       "      <td>...</td>\n",
       "      <td>5389</td>\n",
       "      <td>6880</td>\n",
       "      <td>7325</td>\n",
       "      <td>7902</td>\n",
       "      <td>6707</td>\n",
       "      <td>4305</td>\n",
       "      <td>3059</td>\n",
       "      <td>2744</td>\n",
       "      <td>2477</td>\n",
       "      <td>2048</td>\n",
       "    </tr>\n",
       "  </tbody>\n",
       "</table>\n",
       "<p>5 rows × 31 columns</p>\n",
       "</div>"
      ],
      "text/plain": [
       "   HMGNS_FLOW_ID  HMGNS_LNK_ID  \\\n",
       "0              2          7581   \n",
       "1              2          7581   \n",
       "2              2          7581   \n",
       "3              2          7581   \n",
       "4              2          7581   \n",
       "\n",
       "                                      HMGNS_LNK_DESC        FLOW  DOW  \\\n",
       "0   MONASH FREEWAY btwn MONASH FREEWAY Offramp & ...  EAST BOUND    1   \n",
       "1   MONASH FREEWAY btwn MONASH FREEWAY Offramp & ...  EAST BOUND    1   \n",
       "2   MONASH FREEWAY btwn MONASH FREEWAY Offramp & ...  EAST BOUND    1   \n",
       "3   MONASH FREEWAY btwn MONASH FREEWAY Offramp & ...  EAST BOUND    2   \n",
       "4   MONASH FREEWAY btwn MONASH FREEWAY Offramp & ...  EAST BOUND    2   \n",
       "\n",
       "  COUNT_TYPE              PERIOD_TYPE  0:00  1:00  2:00  ...  14:00  15:00  \\\n",
       "0       Erte  LONG WKND/PUB HOL/OTHER  1314   835   636  ...   5030   5891   \n",
       "1       Erte           SCHOOL HOLIDAY  1189   597   495  ...   5874   7934   \n",
       "2       Erte       SCHOOL TERM/NORMAL   836   461   316  ...   5951   7453   \n",
       "3       Erte  LONG WKND/PUB HOL/OTHER  1344   742   483  ...   5360   6594   \n",
       "4       Erte           SCHOOL HOLIDAY  1178   620   421  ...   5389   6880   \n",
       "\n",
       "   16:00  17:00  18:00  19:00  20:00  21:00  22:00  23:00  \n",
       "0   6279   6708   5039   3358   2853   2496   2205   1804  \n",
       "1   8342   8761   7501   4594   3063   2663   2347   1803  \n",
       "2   7955   8152   6779   4002   2834   2569   2116   1415  \n",
       "3   7558   8058   7209   4988   3619   3071   2671   2587  \n",
       "4   7325   7902   6707   4305   3059   2744   2477   2048  \n",
       "\n",
       "[5 rows x 31 columns]"
      ]
     },
     "execution_count": 14,
     "metadata": {},
     "output_type": "execute_result"
    }
   ],
   "source": [
    "df_monash = df_raw[df_raw['HMGNS_LNK_DESC'].notna() & df_raw[\"HMGNS_LNK_DESC\"].str.contains('^[ ]MONASH FREEWAY',flags=re.I, regex=True)]\n",
    "df_monash.head()"
   ]
  },
  {
   "cell_type": "code",
   "execution_count": 15,
   "metadata": {},
   "outputs": [],
   "source": [
    "df_monash_weekday = df_monash[df_monash[\"PERIOD_TYPE\"]=='SCHOOL TERM/NORMAL']\n",
    "df_monash_weekday =  df_monash_weekday[df_monash_weekday[\"DOW\"].isin([1, 2, 3, 4, 5])]"
   ]
  },
  {
   "cell_type": "code",
   "execution_count": 16,
   "metadata": {},
   "outputs": [
    {
     "data": {
      "text/html": [
       "<div>\n",
       "<style scoped>\n",
       "    .dataframe tbody tr th:only-of-type {\n",
       "        vertical-align: middle;\n",
       "    }\n",
       "\n",
       "    .dataframe tbody tr th {\n",
       "        vertical-align: top;\n",
       "    }\n",
       "\n",
       "    .dataframe thead th {\n",
       "        text-align: right;\n",
       "    }\n",
       "</style>\n",
       "<table border=\"1\" class=\"dataframe\">\n",
       "  <thead>\n",
       "    <tr style=\"text-align: right;\">\n",
       "      <th></th>\n",
       "      <th>HMGNS_FLOW_ID</th>\n",
       "      <th>HMGNS_LNK_ID</th>\n",
       "      <th>HMGNS_LNK_DESC</th>\n",
       "      <th>FLOW</th>\n",
       "      <th>DOW</th>\n",
       "      <th>COUNT_TYPE</th>\n",
       "      <th>PERIOD_TYPE</th>\n",
       "      <th>0:00</th>\n",
       "      <th>1:00</th>\n",
       "      <th>2:00</th>\n",
       "      <th>...</th>\n",
       "      <th>16:00</th>\n",
       "      <th>17:00</th>\n",
       "      <th>18:00</th>\n",
       "      <th>19:00</th>\n",
       "      <th>20:00</th>\n",
       "      <th>21:00</th>\n",
       "      <th>22:00</th>\n",
       "      <th>23:00</th>\n",
       "      <th>morning_peak</th>\n",
       "      <th>evening_peak</th>\n",
       "    </tr>\n",
       "  </thead>\n",
       "  <tbody>\n",
       "    <tr>\n",
       "      <th>2</th>\n",
       "      <td>2</td>\n",
       "      <td>7581</td>\n",
       "      <td>MONASH FREEWAY btwn MONASH FREEWAY Offramp &amp; ...</td>\n",
       "      <td>EAST BOUND</td>\n",
       "      <td>1</td>\n",
       "      <td>Erte</td>\n",
       "      <td>SCHOOL TERM/NORMAL</td>\n",
       "      <td>836</td>\n",
       "      <td>461</td>\n",
       "      <td>316</td>\n",
       "      <td>...</td>\n",
       "      <td>7955</td>\n",
       "      <td>8152</td>\n",
       "      <td>6779</td>\n",
       "      <td>4002</td>\n",
       "      <td>2834</td>\n",
       "      <td>2569</td>\n",
       "      <td>2116</td>\n",
       "      <td>1415</td>\n",
       "      <td>18672</td>\n",
       "      <td>26888</td>\n",
       "    </tr>\n",
       "    <tr>\n",
       "      <th>5</th>\n",
       "      <td>2</td>\n",
       "      <td>7581</td>\n",
       "      <td>MONASH FREEWAY btwn MONASH FREEWAY Offramp &amp; ...</td>\n",
       "      <td>EAST BOUND</td>\n",
       "      <td>2</td>\n",
       "      <td>Erte</td>\n",
       "      <td>SCHOOL TERM/NORMAL</td>\n",
       "      <td>915</td>\n",
       "      <td>490</td>\n",
       "      <td>343</td>\n",
       "      <td>...</td>\n",
       "      <td>7755</td>\n",
       "      <td>7758</td>\n",
       "      <td>6882</td>\n",
       "      <td>4489</td>\n",
       "      <td>3283</td>\n",
       "      <td>3025</td>\n",
       "      <td>2499</td>\n",
       "      <td>1791</td>\n",
       "      <td>18949</td>\n",
       "      <td>26884</td>\n",
       "    </tr>\n",
       "    <tr>\n",
       "      <th>8</th>\n",
       "      <td>2</td>\n",
       "      <td>7581</td>\n",
       "      <td>MONASH FREEWAY btwn MONASH FREEWAY Offramp &amp; ...</td>\n",
       "      <td>EAST BOUND</td>\n",
       "      <td>3</td>\n",
       "      <td>Erte</td>\n",
       "      <td>SCHOOL TERM/NORMAL</td>\n",
       "      <td>905</td>\n",
       "      <td>485</td>\n",
       "      <td>340</td>\n",
       "      <td>...</td>\n",
       "      <td>7677</td>\n",
       "      <td>7679</td>\n",
       "      <td>6812</td>\n",
       "      <td>4444</td>\n",
       "      <td>3250</td>\n",
       "      <td>2994</td>\n",
       "      <td>2474</td>\n",
       "      <td>1773</td>\n",
       "      <td>18758</td>\n",
       "      <td>26612</td>\n",
       "    </tr>\n",
       "    <tr>\n",
       "      <th>11</th>\n",
       "      <td>2</td>\n",
       "      <td>7581</td>\n",
       "      <td>MONASH FREEWAY btwn MONASH FREEWAY Offramp &amp; ...</td>\n",
       "      <td>EAST BOUND</td>\n",
       "      <td>4</td>\n",
       "      <td>Erte</td>\n",
       "      <td>SCHOOL TERM/NORMAL</td>\n",
       "      <td>942</td>\n",
       "      <td>504</td>\n",
       "      <td>354</td>\n",
       "      <td>...</td>\n",
       "      <td>7990</td>\n",
       "      <td>7993</td>\n",
       "      <td>7090</td>\n",
       "      <td>4625</td>\n",
       "      <td>3383</td>\n",
       "      <td>3116</td>\n",
       "      <td>2575</td>\n",
       "      <td>1845</td>\n",
       "      <td>19524</td>\n",
       "      <td>27698</td>\n",
       "    </tr>\n",
       "    <tr>\n",
       "      <th>14</th>\n",
       "      <td>2</td>\n",
       "      <td>7581</td>\n",
       "      <td>MONASH FREEWAY btwn MONASH FREEWAY Offramp &amp; ...</td>\n",
       "      <td>EAST BOUND</td>\n",
       "      <td>5</td>\n",
       "      <td>Erte</td>\n",
       "      <td>SCHOOL TERM/NORMAL</td>\n",
       "      <td>1163</td>\n",
       "      <td>645</td>\n",
       "      <td>461</td>\n",
       "      <td>...</td>\n",
       "      <td>7786</td>\n",
       "      <td>7530</td>\n",
       "      <td>7041</td>\n",
       "      <td>5263</td>\n",
       "      <td>3757</td>\n",
       "      <td>3399</td>\n",
       "      <td>3177</td>\n",
       "      <td>3150</td>\n",
       "      <td>18787</td>\n",
       "      <td>27620</td>\n",
       "    </tr>\n",
       "  </tbody>\n",
       "</table>\n",
       "<p>5 rows × 33 columns</p>\n",
       "</div>"
      ],
      "text/plain": [
       "    HMGNS_FLOW_ID  HMGNS_LNK_ID  \\\n",
       "2               2          7581   \n",
       "5               2          7581   \n",
       "8               2          7581   \n",
       "11              2          7581   \n",
       "14              2          7581   \n",
       "\n",
       "                                       HMGNS_LNK_DESC        FLOW  DOW  \\\n",
       "2    MONASH FREEWAY btwn MONASH FREEWAY Offramp & ...  EAST BOUND    1   \n",
       "5    MONASH FREEWAY btwn MONASH FREEWAY Offramp & ...  EAST BOUND    2   \n",
       "8    MONASH FREEWAY btwn MONASH FREEWAY Offramp & ...  EAST BOUND    3   \n",
       "11   MONASH FREEWAY btwn MONASH FREEWAY Offramp & ...  EAST BOUND    4   \n",
       "14   MONASH FREEWAY btwn MONASH FREEWAY Offramp & ...  EAST BOUND    5   \n",
       "\n",
       "   COUNT_TYPE         PERIOD_TYPE  0:00  1:00  2:00  ...  16:00  17:00  18:00  \\\n",
       "2        Erte  SCHOOL TERM/NORMAL   836   461   316  ...   7955   8152   6779   \n",
       "5        Erte  SCHOOL TERM/NORMAL   915   490   343  ...   7755   7758   6882   \n",
       "8        Erte  SCHOOL TERM/NORMAL   905   485   340  ...   7677   7679   6812   \n",
       "11       Erte  SCHOOL TERM/NORMAL   942   504   354  ...   7990   7993   7090   \n",
       "14       Erte  SCHOOL TERM/NORMAL  1163   645   461  ...   7786   7530   7041   \n",
       "\n",
       "    19:00  20:00  21:00  22:00  23:00  morning_peak  evening_peak  \n",
       "2    4002   2834   2569   2116   1415         18672         26888  \n",
       "5    4489   3283   3025   2499   1791         18949         26884  \n",
       "8    4444   3250   2994   2474   1773         18758         26612  \n",
       "11   4625   3383   3116   2575   1845         19524         27698  \n",
       "14   5263   3757   3399   3177   3150         18787         27620  \n",
       "\n",
       "[5 rows x 33 columns]"
      ]
     },
     "execution_count": 16,
     "metadata": {},
     "output_type": "execute_result"
    }
   ],
   "source": [
    "df_monash_weekday[\"morning_peak\"] = df_monash_weekday['6:00'] + df_monash_weekday['7:00'] + df_monash_weekday['8:00'] + df_monash_weekday['9:00']\n",
    "df_monash_weekday[\"evening_peak\"] = df_monash_weekday['16:00'] + df_monash_weekday['17:00'] + df_monash_weekday['18:00'] + df_monash_weekday['19:00']\n",
    "df_monash_weekday.head()"
   ]
  },
  {
   "cell_type": "markdown",
   "metadata": {},
   "source": [
    "# Chi-Square Test"
   ]
  },
  {
   "cell_type": "markdown",
   "metadata": {},
   "source": [
    "Our null hypothesis is that there is no variation in peak traffic levels over week days. \n",
    "That is, each day is rougly 20% of the total peak traffic for week days. \n",
    "\n",
    "The alternative hypothesis is that there is a variation in peak traffic levels across five weekdays."
   ]
  },
  {
   "cell_type": "code",
   "execution_count": 27,
   "metadata": {},
   "outputs": [
    {
     "data": {
      "text/plain": [
       "<Figure size 2160x2160 with 0 Axes>"
      ]
     },
     "metadata": {},
     "output_type": "display_data"
    },
    {
     "data": {
      "image/png": "[encoded data removed]",
      "text/plain": [
       "<Figure size 432x288 with 1 Axes>"
      ]
     },
     "metadata": {
      "needs_background": "light"
     },
     "output_type": "display_data"
    }
   ],
   "source": [
    "df_monash_weekday_average_morning = df_monash_weekday.groupby('DOW').agg({'morning_peak': 'mean'})\n",
    "\n",
    "plt.figure(figsize=(30, 30))\n",
    "df_monash_weekday_average_morning.plot(kind=\"bar\")\n",
    "plt.title('Average Morning Peak Traffic over Weekdays')\n",
    "plt.ylabel('Morning Peak')\n",
    "plt.xlabel('Day of Week')\n",
    "plt.show()"
   ]
  },
  {
   "cell_type": "code",
   "execution_count": 28,
   "metadata": {},
   "outputs": [
    {
     "data": {
      "text/plain": [
       "<Figure size 2160x2160 with 0 Axes>"
      ]
     },
     "metadata": {},
     "output_type": "display_data"
    },
    {
     "data": {
      "image/png": "[encoded data removed]",
      "text/plain": [
       "<Figure size 432x288 with 1 Axes>"
      ]
     },
     "metadata": {
      "needs_background": "light"
     },
     "output_type": "display_data"
    }
   ],
   "source": [
    "df_monash_weekday_average_evening = df_monash_weekday.groupby('DOW').agg({'evening_peak': 'mean'})\n",
    "plt.figure(figsize=(30, 30))\n",
    "df_monash_weekday_average_evening.plot(kind=\"bar\")\n",
    "plt.title('Average Evening Peak Traffic over Weekdays')\n",
    "plt.ylabel('Morning Peak')\n",
    "plt.xlabel('Day of Week')\n",
    "plt.show()"
   ]
  },
  {
   "cell_type": "code",
   "execution_count": 29,
   "metadata": {},
   "outputs": [
    {
     "data": {
      "text/plain": [
       "Power_divergenceResult(statistic=array([1.03493729e+10, 1.03493729e+10, 1.03493729e+10, 1.03493729e+10,\n",
       "       1.03493729e+10]), pvalue=array([0., 0., 0., 0., 0.]))"
      ]
     },
     "execution_count": 29,
     "metadata": {},
     "output_type": "execute_result"
    }
   ],
   "source": [
    "from scipy.stats import chisquare\n",
    "chisquare(df_monash_weekday_average_morning, f_exp=[1/5, 1/5, 1/5, 1/5, 1/5])"
   ]
  },
  {
   "cell_type": "code",
   "execution_count": 30,
   "metadata": {},
   "outputs": [
    {
     "data": {
      "text/plain": [
       "Power_divergenceResult(statistic=array([9.9790655e+09, 9.9790655e+09, 9.9790655e+09, 9.9790655e+09,\n",
       "       9.9790655e+09]), pvalue=array([0., 0., 0., 0., 0.]))"
      ]
     },
     "execution_count": 30,
     "metadata": {},
     "output_type": "execute_result"
    }
   ],
   "source": [
    "chisquare(df_monash_weekday_average_evening, f_exp=[1/5, 1/5, 1/5, 1/5, 1/5])"
   ]
  },
  {
   "cell_type": "markdown",
   "metadata": {},
   "source": [
    "<b> As you can observe from both chi-square tests, p-value in both cases is less than 0.05. So we reject the null hypothesis. Therefore we can conclude that the distribution of morning peak hour traffic and evening peak hour traffic are not equally distributed across weekdays.</b>"
   ]
  },
  {
   "cell_type": "markdown",
   "metadata": {},
   "source": [
    "# Clustering"
   ]
  },
  {
   "cell_type": "markdown",
   "metadata": {},
   "source": [
    "I am going to cluster all time series data that is from 0th hour to 23rd hour for every row or sample. "
   ]
  },
  {
   "cell_type": "code",
   "execution_count": 17,
   "metadata": {},
   "outputs": [
    {
     "data": {
      "text/plain": [
       "(224978, 31)"
      ]
     },
     "execution_count": 17,
     "metadata": {},
     "output_type": "execute_result"
    }
   ],
   "source": [
    "df_raw = pd.read_csv('C:/Users/veua/Downloads/TYPICAL_HOURLY_VOLUME_DATA.csv')\n",
    "df_raw = df_raw.dropna(axis=0, how='any')\n",
    "df_raw.shape"
   ]
  },
  {
   "cell_type": "markdown",
   "metadata": {},
   "source": [
    "# Mini Batch K-Means"
   ]
  },
  {
   "cell_type": "markdown",
   "metadata": {},
   "source": [
    "K-means is one of the most popular clustering algorithms, mainly because of its good time performance. With the increasing size of the datasets being analyzed, the computation time of K-means increases because of its constraint of needing the whole dataset in main memory. For this reason, several methods have been proposed to reduce the temporal and spatial cost of the algorithm. A different approach is the Mini batch K-means algorithm.\n",
    "\n",
    "Mini Batch K-means algorithm's main idea is to use small random batches of data of a fixed size, so they can be stored in memory. Each iteration a new random sample from the dataset is obtained and used to update the clusters and this is repeated until convergence. This speeds up the algorithm typically by a factor of three or four and makes it possible to cluster huge datasets that do not fit in memory.\n",
    "\n"
   ]
  },
  {
   "cell_type": "code",
   "execution_count": 20,
   "metadata": {},
   "outputs": [
    {
     "data": {
      "text/plain": [
       "Index(['HMGNS_FLOW_ID', 'HMGNS_LNK_ID', 'HMGNS_LNK_DESC', 'FLOW', 'DOW',\n",
       "       'COUNT_TYPE', 'PERIOD_TYPE', '0:00', '1:00', '2:00', '3:00', '4:00',\n",
       "       '5:00', '6:00', '7:00', '8:00', '9:00', '10:00', '11:00', '12:00',\n",
       "       '13:00', '14:00', '15:00', '16:00', '17:00', '18:00', '19:00', '20:00',\n",
       "       '21:00', '22:00', '23:00'],\n",
       "      dtype='object')"
      ]
     },
     "execution_count": 20,
     "metadata": {},
     "output_type": "execute_result"
    }
   ],
   "source": [
    "df_raw.columns"
   ]
  },
  {
   "cell_type": "code",
   "execution_count": 21,
   "metadata": {},
   "outputs": [
    {
     "data": {
      "text/html": [
       "<div>\n",
       "<style scoped>\n",
       "    .dataframe tbody tr th:only-of-type {\n",
       "        vertical-align: middle;\n",
       "    }\n",
       "\n",
       "    .dataframe tbody tr th {\n",
       "        vertical-align: top;\n",
       "    }\n",
       "\n",
       "    .dataframe thead th {\n",
       "        text-align: right;\n",
       "    }\n",
       "</style>\n",
       "<table border=\"1\" class=\"dataframe\">\n",
       "  <thead>\n",
       "    <tr style=\"text-align: right;\">\n",
       "      <th></th>\n",
       "      <th>0:00</th>\n",
       "      <th>1:00</th>\n",
       "      <th>2:00</th>\n",
       "      <th>3:00</th>\n",
       "      <th>4:00</th>\n",
       "      <th>5:00</th>\n",
       "      <th>6:00</th>\n",
       "      <th>7:00</th>\n",
       "      <th>8:00</th>\n",
       "      <th>9:00</th>\n",
       "      <th>...</th>\n",
       "      <th>14:00</th>\n",
       "      <th>15:00</th>\n",
       "      <th>16:00</th>\n",
       "      <th>17:00</th>\n",
       "      <th>18:00</th>\n",
       "      <th>19:00</th>\n",
       "      <th>20:00</th>\n",
       "      <th>21:00</th>\n",
       "      <th>22:00</th>\n",
       "      <th>23:00</th>\n",
       "    </tr>\n",
       "  </thead>\n",
       "  <tbody>\n",
       "    <tr>\n",
       "      <th>0</th>\n",
       "      <td>1314</td>\n",
       "      <td>835</td>\n",
       "      <td>636</td>\n",
       "      <td>562</td>\n",
       "      <td>531</td>\n",
       "      <td>701</td>\n",
       "      <td>1416</td>\n",
       "      <td>2544</td>\n",
       "      <td>3169</td>\n",
       "      <td>2965</td>\n",
       "      <td>...</td>\n",
       "      <td>5030</td>\n",
       "      <td>5891</td>\n",
       "      <td>6279</td>\n",
       "      <td>6708</td>\n",
       "      <td>5039</td>\n",
       "      <td>3358</td>\n",
       "      <td>2853</td>\n",
       "      <td>2496</td>\n",
       "      <td>2205</td>\n",
       "      <td>1804</td>\n",
       "    </tr>\n",
       "    <tr>\n",
       "      <th>1</th>\n",
       "      <td>1189</td>\n",
       "      <td>597</td>\n",
       "      <td>495</td>\n",
       "      <td>391</td>\n",
       "      <td>526</td>\n",
       "      <td>1173</td>\n",
       "      <td>3089</td>\n",
       "      <td>5196</td>\n",
       "      <td>6032</td>\n",
       "      <td>4438</td>\n",
       "      <td>...</td>\n",
       "      <td>5874</td>\n",
       "      <td>7934</td>\n",
       "      <td>8342</td>\n",
       "      <td>8761</td>\n",
       "      <td>7501</td>\n",
       "      <td>4594</td>\n",
       "      <td>3063</td>\n",
       "      <td>2663</td>\n",
       "      <td>2347</td>\n",
       "      <td>1803</td>\n",
       "    </tr>\n",
       "    <tr>\n",
       "      <th>2</th>\n",
       "      <td>836</td>\n",
       "      <td>461</td>\n",
       "      <td>316</td>\n",
       "      <td>299</td>\n",
       "      <td>442</td>\n",
       "      <td>1080</td>\n",
       "      <td>2999</td>\n",
       "      <td>5226</td>\n",
       "      <td>5967</td>\n",
       "      <td>4480</td>\n",
       "      <td>...</td>\n",
       "      <td>5951</td>\n",
       "      <td>7453</td>\n",
       "      <td>7955</td>\n",
       "      <td>8152</td>\n",
       "      <td>6779</td>\n",
       "      <td>4002</td>\n",
       "      <td>2834</td>\n",
       "      <td>2569</td>\n",
       "      <td>2116</td>\n",
       "      <td>1415</td>\n",
       "    </tr>\n",
       "    <tr>\n",
       "      <th>3</th>\n",
       "      <td>1344</td>\n",
       "      <td>742</td>\n",
       "      <td>483</td>\n",
       "      <td>423</td>\n",
       "      <td>414</td>\n",
       "      <td>722</td>\n",
       "      <td>2108</td>\n",
       "      <td>4219</td>\n",
       "      <td>5633</td>\n",
       "      <td>4056</td>\n",
       "      <td>...</td>\n",
       "      <td>5360</td>\n",
       "      <td>6594</td>\n",
       "      <td>7558</td>\n",
       "      <td>8058</td>\n",
       "      <td>7209</td>\n",
       "      <td>4988</td>\n",
       "      <td>3619</td>\n",
       "      <td>3071</td>\n",
       "      <td>2671</td>\n",
       "      <td>2587</td>\n",
       "    </tr>\n",
       "    <tr>\n",
       "      <th>4</th>\n",
       "      <td>1178</td>\n",
       "      <td>620</td>\n",
       "      <td>421</td>\n",
       "      <td>359</td>\n",
       "      <td>422</td>\n",
       "      <td>902</td>\n",
       "      <td>2520</td>\n",
       "      <td>4594</td>\n",
       "      <td>5382</td>\n",
       "      <td>4112</td>\n",
       "      <td>...</td>\n",
       "      <td>5389</td>\n",
       "      <td>6880</td>\n",
       "      <td>7325</td>\n",
       "      <td>7902</td>\n",
       "      <td>6707</td>\n",
       "      <td>4305</td>\n",
       "      <td>3059</td>\n",
       "      <td>2744</td>\n",
       "      <td>2477</td>\n",
       "      <td>2048</td>\n",
       "    </tr>\n",
       "  </tbody>\n",
       "</table>\n",
       "<p>5 rows × 24 columns</p>\n",
       "</div>"
      ],
      "text/plain": [
       "   0:00  1:00  2:00  3:00  4:00  5:00  6:00  7:00  8:00  9:00  ...  14:00  \\\n",
       "0  1314   835   636   562   531   701  1416  2544  3169  2965  ...   5030   \n",
       "1  1189   597   495   391   526  1173  3089  5196  6032  4438  ...   5874   \n",
       "2   836   461   316   299   442  1080  2999  5226  5967  4480  ...   5951   \n",
       "3  1344   742   483   423   414   722  2108  4219  5633  4056  ...   5360   \n",
       "4  1178   620   421   359   422   902  2520  4594  5382  4112  ...   5389   \n",
       "\n",
       "   15:00  16:00  17:00  18:00  19:00  20:00  21:00  22:00  23:00  \n",
       "0   5891   6279   6708   5039   3358   2853   2496   2205   1804  \n",
       "1   7934   8342   8761   7501   4594   3063   2663   2347   1803  \n",
       "2   7453   7955   8152   6779   4002   2834   2569   2116   1415  \n",
       "3   6594   7558   8058   7209   4988   3619   3071   2671   2587  \n",
       "4   6880   7325   7902   6707   4305   3059   2744   2477   2048  \n",
       "\n",
       "[5 rows x 24 columns]"
      ]
     },
     "execution_count": 21,
     "metadata": {},
     "output_type": "execute_result"
    }
   ],
   "source": [
    "df_clus = df_raw.loc[:, '0:00':'23:00']\n",
    "df_clus = df_clus.dropna(axis=0, how='any')\n",
    "df_clus.head()"
   ]
  },
  {
   "cell_type": "code",
   "execution_count": 22,
   "metadata": {},
   "outputs": [
    {
     "data": {
      "text/plain": [
       "(224978, 24)"
      ]
     },
     "execution_count": 22,
     "metadata": {},
     "output_type": "execute_result"
    }
   ],
   "source": [
    "df_clus.shape"
   ]
  },
  {
   "cell_type": "code",
   "execution_count": 23,
   "metadata": {},
   "outputs": [
    {
     "name": "stdout",
     "output_type": "stream",
     "text": [
      "For n_clusters = 2, silhouette score is 0.72)\n",
      "For n_clusters = 3, silhouette score is 0.60)\n",
      "For n_clusters = 4, silhouette score is 0.53)\n",
      "For n_clusters = 5, silhouette score is 0.58)\n",
      "For n_clusters = 6, silhouette score is 0.49)\n",
      "For n_clusters = 7, silhouette score is 0.49)\n",
      "For n_clusters = 8, silhouette score is 0.38)\n",
      "For n_clusters = 9, silhouette score is 0.46)\n"
     ]
    },
    {
     "data": {
      "image/png": "[encoded data removed]",
      "text/plain": [
       "<Figure size 1152x576 with 1 Axes>"
      ]
     },
     "metadata": {
      "needs_background": "light"
     },
     "output_type": "display_data"
    }
   ],
   "source": [
    "from sklearn.cluster import KMeans\n",
    "from sklearn.metrics import silhouette_score\n",
    "\n",
    "silhouette_scores = []\n",
    "range_n_clusters = list (range(2,10))\n",
    "for n_clusters in range_n_clusters:\n",
    "    clusterer = KMeans(n_clusters=n_clusters)\n",
    "    preds = clusterer.fit_predict(df_clus)\n",
    "    centers = clusterer.cluster_centers_\n",
    "\n",
    "    score = silhouette_score(df_clus, preds, sample_size=100)\n",
    "    silhouette_scores.append(score)\n",
    "    print(\"For n_clusters = {}, silhouette score is {:.2f})\".format(n_clusters, score))\n",
    "\n",
    "plt.figure(figsize=(16,8))\n",
    "plt.plot(range_n_clusters, silhouette_scores, 'bx-')\n",
    "plt.xlabel('k (number of clusters)')\n",
    "plt.ylabel('Silhouette score')\n",
    "plt.title('Selecting the number of clusters using the silhouette score')\n",
    "plt.show()\n",
    "   "
   ]
  },
  {
   "cell_type": "markdown",
   "metadata": {},
   "source": [
    "<b> From above graph, we can see that silhouette score is the largest at k = 2. So I will choose k = 2.</b>"
   ]
  },
  {
   "cell_type": "code",
   "execution_count": 24,
   "metadata": {},
   "outputs": [
    {
     "name": "stdout",
     "output_type": "stream",
     "text": [
      "Number of clusters: 2\n",
      "Predicted Clusters: [1 1 1 ... 0 0 0]\n"
     ]
    }
   ],
   "source": [
    "from sklearn.cluster import MiniBatchKMeans\n",
    "kmeans = MiniBatchKMeans(n_clusters=2, random_state=0,batch_size=100)\n",
    "kmeans1 = kmeans.partial_fit(df_clus.iloc[0:int(len(df_clus)),:])\n",
    "centroids = kmeans1.cluster_centers_\n",
    "labels = kmeans1.labels_\n",
    "pred_clusters = kmeans1.predict(df_clus)\n",
    "print(\"Number of clusters:\", len(centroids))\n",
    "print(\"Predicted Clusters:\", pred_clusters)\n"
   ]
  },
  {
   "cell_type": "code",
   "execution_count": 25,
   "metadata": {},
   "outputs": [
    {
     "name": "stdout",
     "output_type": "stream",
     "text": [
      "Printing Cluster Centroids [[  80.77323967   50.63915451   36.84638286   33.93627296   44.38592472\n",
      "    97.96620432  235.23920848  363.02020881  441.93208394  410.3273745\n",
      "   431.24015512  460.22931215  469.95505495  462.42459539  477.18537319\n",
      "   527.95466623  555.36801163  561.23790513  442.23905299  311.61089693\n",
      "   235.41221126  199.7786543   163.0238399   122.32521139]\n",
      " [ 721.21280304  433.15734432  333.24370147  337.24306766  532.99001743\n",
      "  1371.82601806 3087.15385834 3883.42544763 3948.49659325 3581.31817462\n",
      "  3561.94438282 3638.76121058 3659.57518618 3677.43844082 3912.49073047\n",
      "  4390.18380605 4673.92663603 4833.52638251 3965.00950721 2726.58168278\n",
      "  2037.49595944 1778.15734432 1520.79733798 1174.06591665]]\n"
     ]
    }
   ],
   "source": [
    "print(\"Printing Cluster Centroids\", centroids)"
   ]
  },
  {
   "cell_type": "code",
   "execution_count": 26,
   "metadata": {},
   "outputs": [
    {
     "data": {
      "image/png": "[encoded data removed]",
      "text/plain": [
       "<Figure size 432x288 with 1 Axes>"
      ]
     },
     "metadata": {
      "needs_background": "light"
     },
     "output_type": "display_data"
    }
   ],
   "source": [
    "for center in centroids:\n",
    "    plt.plot(center)\n",
    "    plt.xlabel(\"hour of the day\")\n",
    "    plt.xticks(range(0, 24))\n",
    "    plt.ylabel(\"Avg traffic volume per hour\")\n",
    "    plt.title(\"Clusters\")"
   ]
  },
  {
   "attachments": {},
   "cell_type": "markdown",
   "metadata": {},
   "source": [
    "<b> From the above graph, we can conclude that blue line represents the cluster that contains average traffic volumes per hour for SCHOOL HOLIDAYS/LONG WEEKEENDS/PUBLIC HOLIDAYS and orange line represents average traffic per hour for SCHOOL DAYS/NORMAL WEEKDAYS. We can observe that average traffic volumes per hour are higher during weekdays as people go about their normal lives. </b>\n"
   ]
  },
  {
   "cell_type": "markdown",
   "metadata": {},
   "source": [
    "# BIRCH (Balanced Iterative Reducing and Clustering using Hierarchy)"
   ]
  },
  {
   "cell_type": "markdown",
   "metadata": {},
   "source": [
    "The BIRCH algorithm was designed specifically for very large datasets, and it can be faster than K-Means, with similar results, as long as the number of features is not too large. During training, it builds a tree structure containing just enough information to quickly assign each new instance to a cluster, without having to store all the instances in the tree: this approach allows it to use limited memory, while handling huge datasets."
   ]
  },
  {
   "cell_type": "markdown",
   "metadata": {},
   "source": [
    "Parameters of BIRCH Algorithm:\n",
    "\n",
    "threshold :  threshold is the maximum number of data points a sub-cluster in the leaf node of the CF tree can hold.\n",
    "\n",
    "branching_factor : This parameter specifies the maximum number of CF sub-clusters in each node (internal node).\n",
    "\n",
    "n_clusters : The number of clusters to be returned after the entire BIRCH algorithm is complete i.e., number of clusters after the final clustering step. \n",
    "If set to None, the final clustering step is not performed and intermediate clusters are returned."
   ]
  },
  {
   "cell_type": "code",
   "execution_count": null,
   "metadata": {},
   "outputs": [],
   "source": [
    "#Here i specified some values for parameters.\n",
    "from sklearn.cluster import Birch\n",
    "brc = Birch(n_clusters=None, branching_factor = 50, threshold=1.5)\n",
    "brc.fit(df_clus)"
   ]
  },
  {
   "cell_type": "code",
   "execution_count": null,
   "metadata": {},
   "outputs": [],
   "source": [
    "predictions = brc.predict(df_clus)\n",
    "predictions"
   ]
  },
  {
   "cell_type": "code",
   "execution_count": null,
   "metadata": {},
   "outputs": [],
   "source": []
  }
 ],
 "metadata": {
  "kernelspec": {
   "display_name": "Python 3",
   "language": "python",
   "name": "python3"
  },
  "language_info": {
   "codemirror_mode": {
    "name": "ipython",
    "version": 3
   },
   "file_extension": ".py",
   "mimetype": "text/x-python",
   "name": "python",
   "nbconvert_exporter": "python",
   "pygments_lexer": "ipython3",
   "version": "3.8.3"
  }
 },
 "nbformat": 4,
 "nbformat_minor": 4
}
